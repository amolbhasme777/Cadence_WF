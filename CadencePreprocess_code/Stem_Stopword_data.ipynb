{
 "cells": [
  {
   "cell_type": "code",
   "execution_count": 1,
   "metadata": {},
   "outputs": [],
   "source": [
    "import pandas as pd \n",
    "from nltk.corpus import stopwords\n",
    "import os"
   ]
  },
  {
   "cell_type": "code",
   "execution_count": 2,
   "metadata": {},
   "outputs": [
    {
     "name": "stdout",
     "output_type": "stream",
     "text": [
      "<class 'pandas.core.frame.DataFrame'>\n",
      "RangeIndex: 15657 entries, 0 to 15656\n",
      "Data columns (total 9 columns):\n",
      "Issue_key          15657 non-null object\n",
      "Issue Type         15657 non-null object\n",
      "Office Location    9537 non-null object\n",
      "Pool               15657 non-null object\n",
      "Service            15657 non-null object\n",
      "Category           15657 non-null object\n",
      "Summary            14881 non-null object\n",
      "Description        15648 non-null object\n",
      "Description1       15628 non-null object\n",
      "dtypes: object(9)\n",
      "memory usage: 1.1+ MB\n"
     ]
    }
   ],
   "source": [
    "df=pd.read_excel(\"Jira_Data_Preproceess_up_26-3-20.xlsx\")\n",
    "\n",
    "df.info()"
   ]
  },
  {
   "cell_type": "code",
   "execution_count": 3,
   "metadata": {},
   "outputs": [
    {
     "name": "stdout",
     "output_type": "stream",
     "text": [
      "hi simon pam can you please provide access to vormetric in il farm development secure vormetric ariel arm etaa it for the emplyees that recently joined my team the list of users mualem mailto hasheesh c mailto sheinenzon mailto elyashiv mailto best \n"
     ]
    }
   ],
   "source": [
    "print(df['Description1'][288])"
   ]
  },
  {
   "cell_type": "code",
   "execution_count": 4,
   "metadata": {},
   "outputs": [],
   "source": [
    "df.dropna(subset=['Description1'],inplace=True)"
   ]
  },
  {
   "cell_type": "code",
   "execution_count": 5,
   "metadata": {},
   "outputs": [
    {
     "name": "stdout",
     "output_type": "stream",
     "text": [
      "<class 'pandas.core.frame.DataFrame'>\n",
      "Int64Index: 15628 entries, 0 to 15656\n",
      "Data columns (total 9 columns):\n",
      "Issue_key          15628 non-null object\n",
      "Issue Type         15628 non-null object\n",
      "Office Location    9517 non-null object\n",
      "Pool               15628 non-null object\n",
      "Service            15628 non-null object\n",
      "Category           15628 non-null object\n",
      "Summary            14853 non-null object\n",
      "Description        15628 non-null object\n",
      "Description1       15628 non-null object\n",
      "dtypes: object(9)\n",
      "memory usage: 1.2+ MB\n"
     ]
    }
   ],
   "source": [
    "df.info()"
   ]
  },
  {
   "cell_type": "code",
   "execution_count": 6,
   "metadata": {},
   "outputs": [],
   "source": [
    "# df.drop(['Issue key'],axis=1,inplace=True)"
   ]
  },
  {
   "cell_type": "code",
   "execution_count": 7,
   "metadata": {},
   "outputs": [],
   "source": [
    "df.reset_index(drop=True, inplace = True,) "
   ]
  },
  {
   "cell_type": "code",
   "execution_count": 8,
   "metadata": {},
   "outputs": [
    {
     "name": "stdout",
     "output_type": "stream",
     "text": [
      "<class 'pandas.core.frame.DataFrame'>\n",
      "RangeIndex: 15628 entries, 0 to 15627\n",
      "Data columns (total 9 columns):\n",
      "Issue_key          15628 non-null object\n",
      "Issue Type         15628 non-null object\n",
      "Office Location    9517 non-null object\n",
      "Pool               15628 non-null object\n",
      "Service            15628 non-null object\n",
      "Category           15628 non-null object\n",
      "Summary            14853 non-null object\n",
      "Description        15628 non-null object\n",
      "Description1       15628 non-null object\n",
      "dtypes: object(9)\n",
      "memory usage: 1.1+ MB\n"
     ]
    }
   ],
   "source": [
    "df.info()"
   ]
  },
  {
   "cell_type": "code",
   "execution_count": 9,
   "metadata": {},
   "outputs": [],
   "source": [
    "df[\"Description1\"] = df[\"Description1\"].str.replace(\"no machine\",\"nomachine\")"
   ]
  },
  {
   "cell_type": "code",
   "execution_count": 10,
   "metadata": {},
   "outputs": [
    {
     "name": "stdout",
     "output_type": "stream",
     "text": [
      "['i', 'me', 'my', 'myself', 'we', 'our', 'ours', 'ourselves', 'you', \"you're\", \"you've\", \"you'll\", \"you'd\", 'your', 'yours', 'yourself', 'yourselves', 'he', 'him', 'his', 'himself', 'she', \"she's\", 'her', 'hers', 'herself', 'it', \"it's\", 'its', 'itself', 'they', 'them', 'their', 'theirs', 'themselves', 'what', 'which', 'who', 'whom', 'this', 'that', \"that'll\", 'these', 'those', 'am', 'is', 'are', 'was', 'were', 'be', 'been', 'being', 'have', 'has', 'had', 'having', 'do', 'does', 'did', 'doing', 'a', 'an', 'the', 'and', 'but', 'if', 'or', 'because', 'as', 'until', 'while', 'of', 'at', 'by', 'for', 'with', 'about', 'against', 'between', 'into', 'through', 'during', 'before', 'after', 'above', 'below', 'to', 'from', 'up', 'down', 'in', 'out', 'on', 'off', 'over', 'under', 'again', 'further', 'then', 'once', 'here', 'there', 'when', 'where', 'why', 'how', 'all', 'any', 'both', 'each', 'few', 'more', 'most', 'other', 'some', 'such', 'no', 'nor', 'not', 'only', 'own', 'same', 'so', 'than', 'too', 'very', 's', 't', 'can', 'will', 'just', 'don', \"don't\", 'should', \"should've\", 'now', 'd', 'll', 'm', 'o', 're', 've', 'y', 'ain', 'aren', \"aren't\", 'couldn', \"couldn't\", 'didn', \"didn't\", 'doesn', \"doesn't\", 'hadn', \"hadn't\", 'hasn', \"hasn't\", 'haven', \"haven't\", 'isn', \"isn't\", 'ma', 'mightn', \"mightn't\", 'mustn', \"mustn't\", 'needn', \"needn't\", 'shan', \"shan't\", 'shouldn', \"shouldn't\", 'wasn', \"wasn't\", 'weren', \"weren't\", 'won', \"won't\", 'wouldn', \"wouldn't\"]\n"
     ]
    }
   ],
   "source": [
    "stop=stopwords.words('english')\n",
    "print(stop)"
   ]
  },
  {
   "cell_type": "code",
   "execution_count": 11,
   "metadata": {},
   "outputs": [],
   "source": [
    "stop.remove(\"not\")"
   ]
  },
  {
   "cell_type": "code",
   "execution_count": 12,
   "metadata": {},
   "outputs": [],
   "source": [
    "df['Description1'] = df['Description1'].astype(str).str.lower()\n",
    "df['Description1'] = df['Description1'].apply(lambda x: [word for word in x.split() if word.lower() not in stop])\n",
    "df['Description1'] = df['Description1'].apply(lambda x: [' '.join(x)])\n",
    "df['Description1'] = [string[0] for string in df['Description1']]"
   ]
  },
  {
   "cell_type": "code",
   "execution_count": null,
   "metadata": {},
   "outputs": [],
   "source": [
    "# stopword=pd.read_excel('stopword_List_21-2-20.xlsx',sheet_name=\"Sheet1\")\n",
    "# stopword = stopword.dropna(subset = [\"Word\"])\n",
    "# stop = stopword[\"Word\"].values.tolist()"
   ]
  },
  {
   "cell_type": "code",
   "execution_count": 16,
   "metadata": {},
   "outputs": [],
   "source": [
    "wordcount = pd.Series(' '.join(df['Description1']).lower().split()).value_counts()[:200]\n",
    "wordcount = pd.DataFrame(wordcount)\n",
    "writer = pd.ExcelWriter('stopword_25match2020.xlsx')\n",
    "wordcount.to_excel(writer,\"Sheet1\")\n",
    "writer.save()"
   ]
  },
  {
   "cell_type": "code",
   "execution_count": null,
   "metadata": {},
   "outputs": [],
   "source": [
    "# df['Description1'] = df['Description1'].astype(str).str.lower()\n",
    "# df['Description1'] = df['Description1'].apply(lambda x: [word for word in x.split() if word.lower() not in stop])\n",
    "# df['Description1'] = df['Description1'].apply(lambda x: [' '.join(x)])"
   ]
  },
  {
   "cell_type": "code",
   "execution_count": null,
   "metadata": {},
   "outputs": [],
   "source": [
    "df.info()"
   ]
  },
  {
   "cell_type": "code",
   "execution_count": null,
   "metadata": {},
   "outputs": [],
   "source": [
    "# writer = pd.ExcelWriter('Jira_Stopword_Data_Removed.xlsx',engine='xlsxwriter',\n",
    "#                        options={'strings_to_urls': False} )\n",
    "# df.to_excel(writer,\"Sheet1\",index=False, )\n",
    "# writer.save()"
   ]
  },
  {
   "cell_type": "code",
   "execution_count": 13,
   "metadata": {},
   "outputs": [],
   "source": [
    "words = ['color','please','red','cadence','com','hi','black','name','nagios',\n",
    "        'jar','c','b','f','e','http','sfdc','team','x','n','p','hello','hi','cic',\n",
    "        'ci','r','h','g','v','eae','sjfhw','cc','ee','ff','lo','en','t','d','feeh','ec','w','wfo','wip']"
   ]
  },
  {
   "cell_type": "code",
   "execution_count": 14,
   "metadata": {},
   "outputs": [],
   "source": [
    "stop = stop+words"
   ]
  },
  {
   "cell_type": "code",
   "execution_count": 15,
   "metadata": {},
   "outputs": [],
   "source": [
    "df['Description1'] = df['Description1'].astype(str).str.lower()\n",
    "df['Description1'] = df['Description1'].apply(lambda x: [word for word in x.split() if word.lower() not in stop])\n",
    "df['Description1'] = df['Description1'].apply(lambda x: [' '.join(x)])\n",
    "df['Description1'] = [string[0] for string in df['Description1']]"
   ]
  },
  {
   "cell_type": "code",
   "execution_count": null,
   "metadata": {},
   "outputs": [],
   "source": [
    "writer = pd.ExcelWriter('JiraTicket_All_Stopword_Data_Removed_u.xlsx',engine='xlsxwriter',\n",
    "                       options={'strings_to_urls': False} )\n",
    "df.to_excel(writer,\"Sheet1\",index=False, )\n",
    "writer.save()"
   ]
  },
  {
   "cell_type": "code",
   "execution_count": null,
   "metadata": {},
   "outputs": [],
   "source": [
    "df.describe()"
   ]
  },
  {
   "cell_type": "code",
   "execution_count": null,
   "metadata": {},
   "outputs": [],
   "source": [
    "df['Issue Type'].value_counts()"
   ]
  },
  {
   "cell_type": "code",
   "execution_count": null,
   "metadata": {},
   "outputs": [],
   "source": []
  },
  {
   "cell_type": "code",
   "execution_count": null,
   "metadata": {},
   "outputs": [],
   "source": []
  }
 ],
 "metadata": {
  "kernelspec": {
   "display_name": "Python 3",
   "language": "python",
   "name": "python3"
  },
  "language_info": {
   "codemirror_mode": {
    "name": "ipython",
    "version": 3
   },
   "file_extension": ".py",
   "mimetype": "text/x-python",
   "name": "python",
   "nbconvert_exporter": "python",
   "pygments_lexer": "ipython3",
   "version": "3.7.4"
  }
 },
 "nbformat": 4,
 "nbformat_minor": 4
}
